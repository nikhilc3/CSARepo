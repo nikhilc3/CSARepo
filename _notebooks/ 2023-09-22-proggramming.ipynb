{
 "cells": [
  {
   "cell_type": "code",
   "execution_count": 23,
   "metadata": {
    "vscode": {
     "languageId": "java"
    }
   },
   "outputs": [
    {
     "name": "stdout",
     "output_type": "stream",
     "text": [
      "120\n"
     ]
    }
   ],
   "source": [
    "class Test\n",
    "{\n",
    "    public static void main(String []args)\n",
    "    {\n",
    "        for(int i = 20; i>0; i=i-1)\n",
    "        {\n",
    "            System.out.println(i);\n",
    "        }\n",
    "    }\n",
    "//    public static void findArea(){\n",
    "//        double pi = 3.14;\n",
    " //       double radius = 9;\n",
    " //       double area = pi * (radius*radius);\n",
    " //       System.out.println(area);\n",
    "//    }\n",
    "\n",
    "    public static void findSum(){\n",
    "        int sum = 1;\n",
    "        for(int i = 5; i>0; i=i-1){\n",
    "            sum *= i;\n",
    "        } \n",
    "        System.out.println(sum);\n",
    "        \n",
    "    }\n",
    "}\n",
    "\n",
    "Test.findSum()\n"
   ]
  }
 ],
 "metadata": {
  "kernelspec": {
   "display_name": "Java",
   "language": "java",
   "name": "java"
  },
  "language_info": {
   "codemirror_mode": "java",
   "file_extension": ".jshell",
   "mimetype": "text/x-java-source",
   "name": "Java",
   "pygments_lexer": "java",
   "version": "17.0.8+7"
  },
  "orig_nbformat": 4
 },
 "nbformat": 4,
 "nbformat_minor": 2
}

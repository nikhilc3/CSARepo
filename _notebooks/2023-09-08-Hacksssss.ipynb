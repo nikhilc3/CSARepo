{
 "cells": [
  {
   "cell_type": "markdown",
   "metadata": {},
   "source": [
    "---\n",
    "layout: post\n",
    "title: Kaiden Do's group's hacks \n",
    "type: hacks\n",
    "courses: { csa: {week: 9} }  \n",
    "comments: true\n",
    "---"
   ]
  },
  {
   "cell_type": "code",
   "execution_count": 1,
   "metadata": {},
   "outputs": [
    {
     "name": "stdout",
     "output_type": "stream",
     "text": [
      "10\n"
     ]
    }
   ],
   "source": [
    "import java.util.ArrayList;\n",
    "\n",
    "public class NumberList {\n",
    "\n",
    "    private ArrayList<Integer> numbers;\n",
    "\n",
    "    public NumberList() {\n",
    "        numbers = new ArrayList<>();\n",
    "    }\n",
    "\n",
    "    public void addNumber(int num) {\n",
    "        numbers.add(num);\n",
    "    }\n",
    "\n",
    "    public int getNumberAtIndex(int index) {\n",
    "        return numbers.get(index);\n",
    "    }\n",
    "\n",
    "    public static void main(String[] args) {\n",
    "        NumberList list = new NumberList();\n",
    "        list.addNumber(5);\n",
    "        list.addNumber(10);\n",
    "        list.addNumber(15);\n",
    "\n",
    "        System.out.println(list.getNumberAtIndex(1));  \n",
    "    }\n",
    "}\n",
    "NumberList.main(null)"
   ]
  },
  {
   "cell_type": "code",
   "execution_count": 2,
   "metadata": {},
   "outputs": [
    {
     "name": "stdout",
     "output_type": "stream",
     "text": [
      "Guess the base number and its exponent!\n",
      "Hint: The number is raised to a positive power.\n",
      "Hint: The result of the operation is: 216.0\n",
      "Enter your guess for the base number: Enter your guess for the exponent: Sorry, that's incorrect. The correct base was 6 and the exponent was 3.\n"
     ]
    }
   ],
   "source": [
    "import java.util.Random;\n",
    "import java.util.Scanner;\n",
    "\n",
    "public class GuessingGame {\n",
    "\n",
    "    private int baseNumber;\n",
    "    private int exponent;\n",
    "    private double result;\n",
    "\n",
    "    public GuessingGame() {\n",
    "        Random rand = new Random();\n",
    "        baseNumber = rand.nextInt(9) + 2; \n",
    "        exponent = rand.nextInt(4) + 1;    \n",
    "        result = Math.pow(baseNumber, exponent);\n",
    "    }\n",
    "\n",
    "\n",
    "    public void provideHint() {\n",
    "        if (exponent > 0) {\n",
    "            System.out.println(\"Hint: The number is raised to a positive power.\");\n",
    "        } else {\n",
    "            System.out.println(\"Hint: The number is raised to a negative power (root).\");\n",
    "        }\n",
    "        System.out.println(\"Hint: The result of the operation is: \" + result);\n",
    "    }\n",
    "\n",
    "\n",
    "    public static boolean checkGuess(int base, int exp, GuessingGame game) {\n",
    "        return base == game.baseNumber && exp == game.exponent;\n",
    "    }\n",
    "\n",
    "    public static void main(String[] args) {\n",
    "        Scanner scanner = new Scanner(System.in);\n",
    "        GuessingGame game = new GuessingGame();\n",
    "\n",
    "        System.out.println(\"Guess the base number and its exponent!\");\n",
    "        game.provideHint();\n",
    "\n",
    "        System.out.print(\"Enter your guess for the base number: \");\n",
    "        int userBase = scanner.nextInt();\n",
    "\n",
    "        System.out.print(\"Enter your guess for the exponent: \");\n",
    "        int userExponent = scanner.nextInt();\n",
    "\n",
    "        if (checkGuess(userBase, userExponent, game)) {\n",
    "            System.out.println(\"Congratulations! You guessed correctly.\");\n",
    "        } else {\n",
    "            System.out.println(\"Sorry, that's incorrect. The correct base was \" + game.baseNumber + \" and the exponent was \" + game.exponent + \".\");\n",
    "        }\n",
    "    }\n",
    "}\n",
    "GuessingGame.main(null)"
   ]
  },
  {
   "cell_type": "code",
   "execution_count": 3,
   "metadata": {},
   "outputs": [
    {
     "name": "stdout",
     "output_type": "stream",
     "text": [
      "Laptop - $999.99\n",
      "Keyboard - $49.99\n",
      "Headphones - $59.99\n"
     ]
    }
   ],
   "source": [
    "import java.util.ArrayList;\n",
    "import java.util.List;\n",
    "\n",
    "public class Store {\n",
    "    int id;\n",
    "    boolean inStock;\n",
    "    String name;\n",
    "    double price;\n",
    "\n",
    "    Store(int id, boolean inStock, String name, double price) {\n",
    "        this.id = id;\n",
    "        this.inStock = inStock;\n",
    "        this.name = name;\n",
    "        this.price = price;\n",
    "    }\n",
    "\n",
    "    public static void main(String[] args) {\n",
    "        List<Store> products = new ArrayList<>();\n",
    "\n",
    "        products.add(new Store(1, true, \"Laptop\", 999.99));\n",
    "        products.add(new Store(2, false, \"Mouse\", 19.99));\n",
    "        products.add(new Store(3, true, \"Keyboard\", 49.99));\n",
    "        products.add(new Store(4, true, \"Monitor\", 149.99));\n",
    "        products.add(new Store(5, false, \"Headphones\", 59.99));\n",
    "\n",
    "        System.out.println(products.get(0).name + \" - $\" + products.get(0).price);\n",
    "        System.out.println(products.get(2).name + \" - $\" + products.get(2).price);\n",
    "        System.out.println(products.get(4).name + \" - $\" + products.get(4).price);\n",
    "    }\n",
    "}\n",
    "Store.main(null)"
   ]
  },
  {
   "cell_type": "code",
   "execution_count": 4,
   "metadata": {},
   "outputs": [
    {
     "name": "stdout",
     "output_type": "stream",
     "text": [
      "First Name: John\n",
      "Last Name: Doe\n"
     ]
    }
   ],
   "source": [
    "public class PersonName {\n",
    "\n",
    "    private String fullName;\n",
    "\n",
    "    PersonName(String fullName) {\n",
    "        this.fullName = fullName;\n",
    "    }\n",
    "\n",
    "    public String getFirstName() {\n",
    "        String firstName = \"\";\n",
    "        for (int i = 0; i < fullName.length(); i++) {\n",
    "            if (fullName.charAt(i) == ' ') {\n",
    "                break;\n",
    "            }\n",
    "            firstName += fullName.charAt(i);\n",
    "        }\n",
    "        return firstName;\n",
    "    }\n",
    "\n",
    "    public String getLastName() {\n",
    "        String lastName = \"\";\n",
    "        boolean spaceFound = false;\n",
    "        for (int i = 0; i < fullName.length(); i++) {\n",
    "            if (fullName.charAt(i) == ' ') {\n",
    "                spaceFound = true;\n",
    "                continue;\n",
    "            }\n",
    "            if (spaceFound) {\n",
    "                lastName += fullName.charAt(i);\n",
    "            }\n",
    "        }\n",
    "        return lastName;\n",
    "    }\n",
    "\n",
    "    public static void main(String[] args) {\n",
    "        PersonName person = new PersonName(\"John Doe\");\n",
    "        System.out.println(\"First Name: \" + person.getFirstName());\n",
    "        System.out.println(\"Last Name: \" + person.getLastName());\n",
    "    }\n",
    "}\n",
    "PersonName.main(null)"
   ]
  }
 ],
 "metadata": {
  "kernelspec": {
   "display_name": "Java",
   "language": "java",
   "name": "java"
  },
  "language_info": {
   "codemirror_mode": "java",
   "file_extension": ".jshell",
   "mimetype": "text/x-java-source",
   "name": "java",
   "pygments_lexer": "java",
   "version": "17.0.8+7"
  },
  "orig_nbformat": 4
 },
 "nbformat": 4,
 "nbformat_minor": 2
}

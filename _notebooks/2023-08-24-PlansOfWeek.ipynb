{
 "cells": [
  {
   "cell_type": "markdown",
   "metadata": {},
   "source": [
    "---\n",
    "layout: default\n",
    "title: Planner \n",
    "type: plans\n",
    "courses: { 'csa': {'week':1} }  \n",
    "---"
   ]
  },
  {
   "cell_type": "markdown",
   "metadata": {},
   "source": [
    "\n",
    "\n",
    "\n",
    "\n",
    "<html>\n",
    "<head>\n",
    "    <title>Weekly Planner</title>\n",
    "\n",
    "</head>\n",
    "<body>\n",
    "\n",
    "<h2>My Weekly Planner</h2>\n",
    "\n",
    "<table>\n",
    "    <tr>\n",
    "        <th>Day</th>\n",
    "        <th>Activities</th>\n",
    "        <th>Challenges</th>\n",
    "    </tr>\n",
    "    <tr>\n",
    "        <td>Friday</td>\n",
    "        <td>Started to understand and look over the Java Console Games. Continued some basic scripting.</td>\n",
    "        <td class=\"challenge\">None</td>\n",
    "    </tr>\n",
    "    <tr>\n",
    "        <td>Saturday</td>\n",
    "        <td>Started working on Rock-Paper-Scissors, Tic-Tac-Toe, and Higher Lower. Began documenting each cell in Jupyter Notebooks.</td>\n",
    "        <td class=\"challenge\">Difficulty in separating games into different cells and objects.</td>\n",
    "    </tr>\n",
    "    <tr>\n",
    "        <td>Monday</td>\n",
    "        <td>Continued working on games and documentation in Jupyter Notebooks.</td>\n",
    "        <td class=\"challenge\">Encountered some minor bugs that took time to debug.</td>\n",
    "    </tr>\n",
    "    <tr>\n",
    "        <td>Tuesday</td>\n",
    "        <td>Run the game menu using recursion instead of a while loop. Added different colors.</td>\n",
    "        <td class=\"challenge\">Learning about recursion was extremely challenging. Had to use several outside resources and it was very time-consuming.</td>\n",
    "    </tr>\n",
    "    <tr>\n",
    "        <td>Wednesday</td>\n",
    "        <td>Looked over 10 units for College Board AP Computer Science A. Reorganized code blocks and comments to identify the Units of Code used. Worked on finishing Bash and Linux hacks.</td>\n",
    "        <td class=\"challenge\">Learning the importance of identifying the units from College Board. The Linux hacks were relatively simple but had to troubleshoot a couple of minor issues.</td>\n",
    "    </tr>\n",
    "</table>\n",
    "\n",
    "</body>\n",
    "</html>\n"
   ]
  }
 ],
 "metadata": {
  "kernelspec": {
   "display_name": "Python 3.9.12 ('base')",
   "language": "python",
   "name": "python3"
  },
  "language_info": {
   "name": "python",
   "version": "3.9.12"
  },
  "orig_nbformat": 4,
  "vscode": {
   "interpreter": {
    "hash": "b39cc0b7d7b7baa8a40a102196f269dabc963c0136c1c82ab9b0b53a6e35bbf2"
   }
  }
 },
 "nbformat": 4,
 "nbformat_minor": 2
}

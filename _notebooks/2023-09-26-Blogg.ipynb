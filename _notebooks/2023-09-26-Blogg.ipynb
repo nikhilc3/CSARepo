{
 "cells": [
  {
   "cell_type": "markdown",
   "metadata": {},
   "source": [
    "---\n",
    "layout: post\n",
    "title: Crossover Grading Blog\n",
    "permalink: /crossoverblog\n",
    "type: hacks\n",
    "courses: { csa: {week: 5} }\n",
    "---\n",
    "\n",
    "# Collaboration with Crossover Team\n",
    "\n",
    "## What Went Well:\n",
    "- **Code Functionality and Runtime Proof:** My code was not only functional but also efficient in its runtime. This ensured that the solutions provided were both correct and optimized.\n",
    "- **Comparison with Scoring Guidelines:** I meticulously compared my code with the scoring guidelines to ensure that all requirements were met, ensuring a high-quality submission.\n",
    "- **Problem-Solving Approach:** I provided a comprehensive step-by-step walkthrough, detailing how I tackled the problem, which gave clarity to my thought process.\n",
    "\n",
    "## Areas for Improvement:\n",
    "- **Code Explanation and Comments:** While my code was functional, it lacked sufficient comments and explanations, making it challenging for others to understand the logic behind it.\n",
    "- **Understanding the Question:** I realized that I needed to delve deeper into understanding the problem statement to provide a more accurate solution.\n",
    "\n",
    "## Steps Taken for Improvement:\n",
    "- **Educational Resources:** I took the initiative to watch a tutorial video by AP Collegeboard, which provided valuable insights into the problem-solving approach.\n",
    "- **Peer Collaboration:** By discussing and comparing solutions with my classmates, I gained a broader perspective and understood different approaches to the problem.\n",
    "- **Feedback Gathering:** I presented my solution to a wider audience, seeking their feedback and suggestions, which greatly helped in refining my approach.\n",
    "\n",
    "## Peer Crossover Grading for FRQ:\n",
    "\n",
    "- **Kevin:**\n",
    "    - Kevin showcased a detailed approach and provided a thorough explanation of his code.\n",
    "    - He introduced a basic Java function game that had an interesting leveling-up mechanism.\n",
    "    - However, he missed drawing parallels with the AP scoring guidelines.\n",
    "    - One area of improvement was time management; his explanation extended beyond the allocated time.\n",
    "\n",
    "    **Score:** 0.85/1\n",
    "\n",
    "- **Orlando:**\n",
    "    - Orlando started with a clear introduction, setting the context for the purpose and objective of the FRQ.\n",
    "    - While he had a good start, he missed out on providing a complete description of his approach.\n",
    "    - He could have benefited from referencing the scoring guidelines during his presentation, which would have provided a clearer framework for his solution.\n",
    "\n",
    "    **Score:** 0.85/1\n",
    "\n",
    "- **Aniket:**\n",
    "    - Aniket made effective use of ChatGPT, which significantly aided him in understanding and approaching the problem.\n",
    "    - His code was not only functional but also aligned well with the scoring guidelines, showcasing his thorough understanding.\n",
    "    - He presented a well-structured representation, making it easy to see how his code matched the guidelines.\n",
    "\n",
    "    **Score:** 1/1\n",
    "\n",
    "- **Soham:**\n",
    "    - Soham did an excellent job demonstrating the functionality of his code and how minor changes impacted the outcomes.\n",
    "    - He tied his solution back to the scoring guidelines effectively, ensuring that all criteria were met.\n",
    "    - While his presentation was mostly clear, he slightly exceeded the time limit and could work on clarity in some parts.\n",
    "\n",
    "    **Score:** 0.95/1\n",
    "\n"
   ]
  }
 ],
 "metadata": {
  "kernelspec": {
   "display_name": "Java",
   "language": "java",
   "name": "java"
  },
  "language_info": {
   "name": "java"
  },
  "orig_nbformat": 4
 },
 "nbformat": 4,
 "nbformat_minor": 2
}

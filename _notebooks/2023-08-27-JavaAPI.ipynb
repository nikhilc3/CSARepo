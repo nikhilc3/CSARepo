{
 "cells": [
  {
   "cell_type": "markdown",
   "metadata": {},
   "source": [
    "---\n",
    "layout: default\n",
    "title: JavaScript API\n",
    "type: hacks\n",
    "courses: { 'csa': {'week':2} } \n",
    "---"
   ]
  },
  {
   "cell_type": "markdown",
   "metadata": {},
   "source": [
    "\n",
    "<html lang=\"en\">\n",
    "<head>\n",
    "    <meta charset=\"UTF-8\">\n",
    "    <title>GitHub User Info</title>\n",
    "    <script>\n",
    "        async function fetchInfo() {\n",
    "            const username = document.getElementById(\"username\").value;\n",
    "            const url = `https://api.github.com/users/${username}`;\n",
    "            try {\n",
    "                const response = await fetch(url);\n",
    "                const result = await response.json();\n",
    "                // Display all items from the API\n",
    "                document.getElementById(\"allItems\").innerHTML = JSON.stringify(result, null, 2);\n",
    "                if (result.message) {\n",
    "                    document.getElementById(\"userInfo\").innerHTML = 'User not found';\n",
    "                } else {\n",
    "                    document.getElementById(\"userInfo\").innerHTML = `Name: ${result.name}, Public Repos: ${result.public_repos}`;\n",
    "                }\n",
    "            } catch (error) {\n",
    "                console.error(error);\n",
    "                document.getElementById(\"userInfo\").innerHTML = 'An error occurred';\n",
    "            }\n",
    "        }\n",
    "    </script>\n",
    "</head>\n",
    "<body>\n",
    "    <h1>Get GitHub User Info</h1>\n",
    "    <label for=\"username\">Enter GitHub Username: </label>\n",
    "    <input type=\"text\" id=\"username\">\n",
    "    <button onclick=\"fetchInfo()\">Fetch Info</button>\n",
    "    <h2>User Info</h2>\n",
    "    <pre id=\"userInfo\"></pre>\n",
    "    <pre id=\"allItems\"></pre>\n",
    "</body>\n",
    "</html>\n"
   ]
  },
  {
   "cell_type": "code",
   "execution_count": null,
   "metadata": {},
   "outputs": [],
   "source": []
  }
 ],
 "metadata": {
  "kernelspec": {
   "display_name": "JavaScript (Node.js)",
   "language": "javascript",
   "name": "javascript"
  },
  "language_info": {
   "name": "javascript"
  },
  "orig_nbformat": 4
 },
 "nbformat": 4,
 "nbformat_minor": 2
}

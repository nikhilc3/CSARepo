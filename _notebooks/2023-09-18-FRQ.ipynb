{
 "cells": [
  {
   "cell_type": "markdown",
   "metadata": {},
   "source": [
    "---\n",
    "layout: default\n",
    "title: Frq no. 1\n",
    "type: hacks\n",
    "courses: { 'csa': {'week':3} } \n",
    "---"
   ]
  },
  {
   "cell_type": "markdown",
   "metadata": {},
   "source": [
    "# FRQ No. 1 -- Methods and Control Strucutres Overview"
   ]
  },
  {
   "cell_type": "markdown",
   "metadata": {},
   "source": [
    "## Topics Covered\n",
    "- Constructors\n",
    "\n",
    "- ArrayList\n",
    "\n",
    "- Conditional Statements\n",
    "\n",
    "- Looping Structures\n",
    "\n",
    "- Modulo and Division Operations\n",
    "\n",
    "- List Indexing\n",
    "\n",
    "- Boolean Methods\n",
    "\n",
    "- Comparison Operators\n",
    "\n"
   ]
  },
  {
   "cell_type": "markdown",
   "metadata": {},
   "source": [
    "## Past AP Exam FRQ: 2017 #1"
   ]
  },
  {
   "cell_type": "markdown",
   "metadata": {},
   "source": [
    "# Part A"
   ]
  },
  {
   "cell_type": "code",
   "execution_count": 17,
   "metadata": {
    "vscode": {
     "languageId": "java"
    }
   },
   "outputs": [],
   "source": [
    "public Digits(int num) {\n",
    "    // This part initializes an instance variable digit list, as an empty array list of an integer type\n",
    "    digitList = new ArrayList<Integer>();\n",
    "\n",
    "    // Handling special case for Zero. This given condition checks if the number is = to 0 and if it is then it directly adds 0 to digitlist. \n",
    "    // While loop does not count in for 0 so this is needed here\n",
    "    if (num == 0) {\n",
    "        digitList.add(0); \n",
    "    }\n",
    "\n",
    "     // Inside the while loop, the modulus operation is used to get the last digit of the number, \n",
    "     // since we we do modulus it gets the decimal place and then it extracts it and adds each \n",
    "     // extracted digit to the beggining of digit list. For example 123, the digit would be 3. \n",
    "     // Then removing the last digit is what we need to do so,  the number is divided by 10 which truncates the last digit removing it. \n",
    "     // So if num was 123, after this line it would become 12\n",
    "     // The condition num > 0 ensures that this continues only while there are digits left in num.\n",
    "    while (num > 0) { \n",
    "        int digit = num % 10; \n",
    "        digitList.add(0, digit); \n",
    "        num = num / 10; \n",
    "    }\n",
    "}"
   ]
  },
  {
   "cell_type": "markdown",
   "metadata": {},
   "source": [
    "# Part B"
   ]
  },
  {
   "cell_type": "code",
   "execution_count": 22,
   "metadata": {
    "vscode": {
     "languageId": "java"
    }
   },
   "outputs": [],
   "source": [
    "public boolean isStrictlyIncreasing() {\n",
    "    for (int i = 0; i < digitList.size() - 1; i++) { // This line declares a method which will reutrn a boolean value (true or false) and the purpose of this is the see if the digits in digitList are in increasing order.\n",
    "        if (digitList.get(i) >= digitList.get(i + 1)) { // for loop that iterates over the elements of digit List. The loops variable i starts at 0 and then goes up till the second to last digit in the element list. \n",
    "        // We only go till second to last because we compare the digit to the one next to it and the last digit does not have anything to compare to.\n",
    "            return false; // output\n",
    "        }\n",
    "    }\n",
    "    return true; // output\n",
    "}"
   ]
  },
  {
   "cell_type": "markdown",
   "metadata": {},
   "source": [
    "# Runable Script"
   ]
  },
  {
   "cell_type": "code",
   "execution_count": 24,
   "metadata": {
    "vscode": {
     "languageId": "java"
    }
   },
   "outputs": [
    {
     "name": "stdout",
     "output_type": "stream",
     "text": [
      "true\n",
      "true\n",
      "false\n"
     ]
    }
   ],
   "source": [
    "import java.util.ArrayList;\n",
    "\n",
    "public class Digits {\n",
    "    private ArrayList<Integer> digitList;\n",
    "    \n",
    "    public Digits(int num) {\n",
    "        digitList = new ArrayList<Integer>();\n",
    "        if (num == 0) {\n",
    "            digitList.add(0);\n",
    "        }\n",
    "        while (num > 0) {\n",
    "            int digit = num % 10; \n",
    "            digitList.add(0, digit); \n",
    "            num = num / 10;\n",
    "        }\n",
    "    }\n",
    "\n",
    "\n",
    "    public boolean isStrictlyIncreasing() {\n",
    "        for (int i = 0; i < digitList.size() - 1; i++) {\n",
    "\n",
    "            if (digitList.get(i) >= digitList.get(i + 1)) {\n",
    "                return false; \n",
    "            }\n",
    "        }\n",
    "        return true; \n",
    "    }\n",
    "\n",
    "\n",
    "    public static void main(String[] args) { // This line defines the main method and serves as the entry point of the program. There are three instances of digits being created.\n",
    "    // The digits constructer is invoked which will break down each number into its indivudual digits and store them in digitList. Discusses this above. \n",
    "        Digits d1 = new Digits(12345);\n",
    "        Digits d2 = new Digits(13579);\n",
    "        Digits d3 = new Digits(13379);\n",
    "\n",
    "        \n",
    "        // This line calls the strictly increasing function method on the broken down number, 12345 in this case. With the function it checks if the numbers are in strictly increasing order. Result true is then printed\n",
    "        // This is now done in every digits 2 and digits 3\n",
    "        System.out.println(d1.isStrictlyIncreasing());  \n",
    "        System.out.println(d2.isStrictlyIncreasing()); \n",
    "        System.out.println(d3.isStrictlyIncreasing());  \n",
    "    }\n",
    "}\n",
    "Digits.main(null) // Way to run the main method. "
   ]
  },
  {
   "cell_type": "markdown",
   "metadata": {},
   "source": [
    "## Steps\n",
    "\n",
    "1. We first import the ArrayList utility.\n",
    "2. Define the Digits class.\n",
    "3. Initialize an ArrayList called digitList which will store the digits of a given number.\n",
    "4. The constructor (Digits(int num)) populates the digitList based on the given number.\n",
    "5. The isStrictlyIncreasing method checks if the digits in digitList are in strictly increasing order.\n",
    "6. Finally, a main method has been added to test our class. It creates a few instances of the Digits class and checks if the numbers are strictly increasing."
   ]
  },
  {
   "cell_type": "markdown",
   "metadata": {},
   "source": [
    "## Challenges\n",
    "1. Extracting Digits: At first, I didn't know how to get each digit from a number. I thought about changing the number into words and looking at each letter, but using the % operation seemed smarter.\n",
    "\n",
    "2. Starting the List: I was confused about where to start the digitList. Should I do it right at the beginning or when I make a new number? I decided to do it when I make a new number so it's fresh each time.\n",
    "\n",
    "3.  I forgot about the number 0. When I tried it, nothing happened! So, I added a special rule just for zero.\n",
    "\n",
    "4. Order Matters: In my first try, I only looked if numbers were the same. But then I realized some numbers could be smaller than the one before. I changed my rules to check that.\n",
    "\n",
    "5. Getting the Order Right: I was putting numbers at the end of my list, but they were backward! I had to fix it by putting them at the start.\n",
    "\n",
    "6. Fast or Slow?: I wondered if my list was slow because I kept adding numbers to the start. I thought about another type of list but kept the one I had. I figured it's okay since we're not looking at super long numbers.\n",
    "\n",
    "7. Testing: I checked if my code worked, and some numbers were wrong! I had to go back and look at my rules again.\n",
    "\n",
    "8. Using the Main Method: I didn't know how to see if my code was right. After looking it up, I learned about the main method and used that.\n",
    "\n",
    "9. Writing Comments: I wasn't sure how much to write about my code. I wanted to explain things, but not too much."
   ]
  }
 ],
 "metadata": {
  "kernelspec": {
   "display_name": "Java",
   "language": "java",
   "name": "java"
  },
  "language_info": {
   "codemirror_mode": "java",
   "file_extension": ".jshell",
   "mimetype": "text/x-java-source",
   "name": "Java",
   "pygments_lexer": "java",
   "version": "17.0.8+7"
  },
  "orig_nbformat": 4
 },
 "nbformat": 4,
 "nbformat_minor": 2
}

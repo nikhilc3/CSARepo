{
 "cells": [
  {
   "cell_type": "markdown",
   "metadata": {},
   "source": [
    "---\n",
    "layout: default\n",
    "title: Planner Week 2 \n",
    "type: plans\n",
    "courses: { 'csa': {'week':2} }  \n",
    "---"
   ]
  },
  {
   "cell_type": "markdown",
   "metadata": {},
   "source": [
    "<html>\n",
    "<head>\n",
    "    <title>Weekly Planner</title>\n",
    "</head>\n",
    "<body>\n",
    "\n",
    "<h2>My Weekly Planner</h2>\n",
    "\n",
    "<table>\n",
    "    <tr>\n",
    "        <th>Day</th>\n",
    "        <th>Activities</th>\n",
    "        <th>Challenges</th>\n",
    "    </tr>\n",
    "    <tr>\n",
    "        <td>Monday</td>\n",
    "        <td>Started working on the API. Learned how to find a suitable API and how to work with it.</td>\n",
    "        <td class=\"challenge\">Struggled initially with finding the API and understanding its documentation. The learning curve was decent but manageable.</td>\n",
    "    </tr>\n",
    "    <tr>\n",
    "        <td>Tuesday</td>\n",
    "        <td>Continued with the API project. Specifically worked on integrating it into a web application and started some initial tests.</td>\n",
    "        <td class=\"challenge\">Faced challenges in asynchronous programming and rate-limiting issues with the API. Had to go through several Stack Overflow threads to find solutions.</td>\n",
    "    </tr>\n",
    "    <tr>\n",
    "        <td>Wednesday</td>\n",
    "        <td>Worked on the table for displaying data. Customized it to make it my own using HTML and some basic CSS.</td>\n",
    "        <td class=\"challenge\">None. It was straightforward and basic.</td>\n",
    "    </tr>\n",
    "</table>\n",
    "\n",
    "</body>\n",
    "</html>\n"
   ]
  }
 ],
 "metadata": {
  "kernelspec": {
   "display_name": "Java",
   "language": "java",
   "name": "java"
  },
  "language_info": {
   "name": "java"
  },
  "orig_nbformat": 4
 },
 "nbformat": 4,
 "nbformat_minor": 2
}
